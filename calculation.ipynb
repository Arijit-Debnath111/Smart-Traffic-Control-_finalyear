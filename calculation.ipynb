{
 "cells": [
  {
   "cell_type": "code",
   "execution_count": 14,
   "id": "ec965a76",
   "metadata": {},
   "outputs": [],
   "source": [
    "import cv2\n",
    "import torch\n",
    "from pathlib import Path\n",
    "from tqdm import tqdm\n"
   ]
  },
  {
   "cell_type": "code",
   "execution_count": 18,
   "id": "ee531c17",
   "metadata": {},
   "outputs": [],
   "source": [
    "import torch.nn as nn"
   ]
  },
  {
   "cell_type": "code",
   "execution_count": null,
   "id": "dce21bf1",
   "metadata": {},
   "outputs": [],
   "source": [
    "from yolov5.models.experimental import attempt_load \n",
    "from yolov5.models.experimental import attempt_load\n",
    "from yolov5.utils.general import non_max_suppression, scale_coords\n",
    "from yolov5.utils.plots import plot_one_box\n",
    "import os\n",
    "\n",
    "# Set the device\n",
    "device = torch.device(\"cpu\")\n",
    "\n",
    "# Load YOLOv5 model\n",
    "model = attempt_load(\"yolov5s.pt\", map_location=device)\n",
    "\n",
    "# Set confidence threshold\n",
    "conf_threshold = 0.3\n",
    "\n",
    "# Define input and output paths\n",
    "inputPath = os.getcwd() + \"/test_images/\"\n",
    "outputPath = os.getcwd() + \"/output_images/\"\n",
    "\n",
    "# Create output directory if it doesn't exist\n",
    "Path(outputPath).mkdir(parents=True, exist_ok=True)\n",
    "\n",
    "def detectVehicles(filename):\n",
    "    global model, inputPath, outputPath, conf_threshold\n",
    "\n",
    "    img = cv2.imread(inputPath + filename)\n",
    "    img = cv2.cvtColor(img, cv2.COLOR_BGR2RGB)\n",
    "\n",
    "    # Inference\n",
    "    results = model(img, size=640)\n",
    "\n",
    "    # Post-processing\n",
    "    results = non_max_suppression(results, conf_threshold, 0.4)\n",
    "\n",
    "    for i, det in enumerate(results):\n",
    "        if det is not None and len(det):\n",
    "            # Rescale boxes from 640 to original image size\n",
    "            det[:, :4] = scale_coords(img.shape[:2], det[:, :4], img.shape).round()\n",
    "\n",
    "            for *xyxy, conf, cls in reversed(det):\n",
    "                label = model.names[int(cls)]\n",
    "                if label in [\"car\", \"bus\", \"bike\", \"truck\", \"rickshaw\"]:\n",
    "                    plot_one_box(xyxy, img, label=label, color=(0, 255, 0), line_thickness=3)\n",
    "\n",
    "    # Save output image\n",
    "    outputFilename = outputPath + \"output_\" + filename\n",
    "    cv2.imwrite(outputFilename, cv2.cvtColor(img, cv2.COLOR_RGB2BGR))\n",
    "    print('Output image stored at:', outputFilename)\n",
    "\n",
    "# Loop through input images\n",
    "for filename in os.listdir(inputPath):\n",
    "    if filename.lower().endswith((\".png\", \".jpg\", \".jpeg\")):\n",
    "        detectVehicles(filename)\n",
    "\n",
    "print(\"Done!\")\n"
   ]
  },
  {
   "cell_type": "code",
   "execution_count": null,
   "id": "5f098b92",
   "metadata": {},
   "outputs": [],
   "source": []
  }
 ],
 "metadata": {
  "kernelspec": {
   "display_name": "Python 3 (ipykernel)",
   "language": "python",
   "name": "python3"
  },
  "language_info": {
   "codemirror_mode": {
    "name": "ipython",
    "version": 3
   },
   "file_extension": ".py",
   "mimetype": "text/x-python",
   "name": "python",
   "nbconvert_exporter": "python",
   "pygments_lexer": "ipython3",
   "version": "3.11.7"
  }
 },
 "nbformat": 4,
 "nbformat_minor": 5
}
